{
 "cells": [
  {
   "attachments": {},
   "cell_type": "markdown",
   "metadata": {},
   "source": [
    "### 서브 프로젝트\n",
    "\n",
    "#### 주제 : 웹 크롤링을 통한 바디프로필 촬영 이후 가볼 맛집 정리\n",
    "\n",
    "##### 촬영장소 주변 맛집 정리\n",
    "- 상호명, 위치, 카테고리, 평점, 리뷰수\n",
    "- 논현, 강남, 광명, 철산\n"
   ]
  },
  {
   "cell_type": "code",
   "execution_count": 4,
   "metadata": {},
   "outputs": [],
   "source": [
    "# 필요 모듈\n",
    "import requests\n",
    "from bs4 import BeautifulSoup\n",
    "from selenium import webdriver\n",
    "from selenium.webdriver.chrome.service import Service\n",
    "from webdriver_manager.chrome import ChromeDriverManager\n",
    "from selenium.webdriver.common.by import By\n",
    "import time\n",
    "from time import sleep\n",
    "from selenium.webdriver.common.keys import Keys\n",
    "from selenium.webdriver.support.ui import WebDriverWait\n",
    "from selenium.webdriver.support import expected_conditions as EC\n"
   ]
  },
  {
   "cell_type": "code",
   "execution_count": 14,
   "metadata": {},
   "outputs": [
    {
     "name": "stderr",
     "output_type": "stream",
     "text": [
      "C:\\Users\\Playdata\\AppData\\Local\\Temp\\ipykernel_14588\\518529831.py:5: DeprecationWarning: executable_path has been deprecated, please pass in a Service object\n",
      "  driver = webdriver.Chrome(driver_path, options=options)\n"
     ]
    }
   ],
   "source": [
    "# 브라우져 세팅\n",
    "driver_path = \"./chromedriver.exe\"\n",
    "options = webdriver.ChromeOptions()\n",
    "options.add_argument(\"--start-minimized\")  # Open browser in maximized window\n",
    "driver = webdriver.Chrome(driver_path, options=options)\n",
    "\n",
    "# 크롤링 주소 설정\n",
    "driver.get(\"https://map.kakao.com/\")\n",
    "\n",
    "# 검색창 찾고 검색어 입력 및 검색\n",
    "search = driver.find_element(By.ID, \"search.keyword.query\")\n",
    "search.send_keys('논현 맛집')\n",
    "search.send_keys(Keys.ENTER)"
   ]
  },
  {
   "cell_type": "code",
   "execution_count": 15,
   "metadata": {},
   "outputs": [],
   "source": [
    "#가게 리스트\n",
    "restaurant_list = driver.find_elements(By.CSS_SELECTOR, '.placelist li')\n"
   ]
  },
  {
   "cell_type": "code",
   "execution_count": 16,
   "metadata": {},
   "outputs": [
    {
     "data": {
      "text/plain": [
       "15"
      ]
     },
     "execution_count": 16,
     "metadata": {},
     "output_type": "execute_result"
    }
   ],
   "source": [
    "len(restaurant_list)"
   ]
  },
  {
   "cell_type": "code",
   "execution_count": 17,
   "metadata": {},
   "outputs": [
    {
     "name": "stdout",
     "output_type": "stream",
     "text": [
      "가게이름: 진미평양냉면, 카테고리: 냉면, 위치: 서울 강남구 학동로 305-3 정각빌딩 1층,  평점: 3.6, 리뷰수: 895\n",
      "가게이름: 리북집 논현직영점, 카테고리: 족발,보쌈, 위치: 서울 강남구 학동로2길 45 1층,  평점: 3.7, 리뷰수: 244\n",
      "가게이름: 한성칼국수, 카테고리: 한식, 위치: 서울 강남구 언주로148길 14 청호상가빌딩 가동 2층,  평점: 3.8, 리뷰수: 134\n",
      "가게이름: 대가방 본점, 카테고리: 중국요리, 위치: 서울 강남구 선릉로145길 13 럭스웨이빌딩 1층,  평점: 3.4, 리뷰수: 159\n",
      "가게이름: 일일향 2호점, 카테고리: 중국요리, 위치: 서울 강남구 봉은사로 167,  평점: 3.3, 리뷰수: 37\n",
      "가게이름: 세종한우 2호점, 카테고리: 육류,고기, 위치: 서울 강남구 논현로 642,  평점: 3.5, 리뷰수: 48\n",
      "가게이름: 유정식당, 카테고리: 한식, 위치: 서울 강남구 도산대로28길 14,  평점: 3.7, 리뷰수: 75\n",
      "가게이름: 홍명, 카테고리: 중식, 위치: 서울 강남구 논현로131길 10 1층,  평점: 3.4, 리뷰수: 138\n",
      "가게이름: 삼육가 논현직영점, 카테고리: 육류,고기, 위치: 서울 강남구 강남대로114길 8 지하1층,1층,  평점: 3.6, 리뷰수: 34\n",
      "가게이름: 크래버대게나라 강남점, 카테고리: 게,대게, 위치: 서울 강남구 언주로 620 현대인텔렉스빌딩 1층,  평점: 4.1, 리뷰수: 209\n",
      "가게이름: 해몽, 카테고리: 육류,고기, 위치: 서울 강남구 학동로41길 32,  평점: 4.1, 리뷰수: 218\n",
      "가게이름: 스시코우지, 카테고리: 초밥,롤, 위치: 서울 강남구 도산대로 318 어넥스 B동 3층,  평점: 4.4, 리뷰수: 156\n",
      "가게이름: 영동장어, 카테고리: 장어, 위치: 서울 강남구 언주로148길 8 1층,  평점: 4.5, 리뷰수: 164\n",
      "가게이름: 취영루 논현점, 카테고리: 중국요리, 위치: 서울 강남구 학동로2길 11,  평점: 3.0, 리뷰수: 23\n",
      "가게이름: 세광양대창 논현점, 카테고리: 곱창,막창, 위치: 서울 강남구 강남대로118길 12 부경빌딩 1층,  평점: 4.0, 리뷰수: 209\n"
     ]
    }
   ],
   "source": [
    "for restaurant in restaurant_list:\n",
    "    name = restaurant.find_element(By.CSS_SELECTOR, '.link_name').text.strip()\n",
    "    category = restaurant.find_element(By.CSS_SELECTOR, '.subcategory').text.strip()\n",
    "    location = restaurant.find_element(By.CSS_SELECTOR, 'p[data-id=\"address\"]').text.strip()\n",
    "    rating = restaurant.find_element(By.CSS_SELECTOR, 'div span .num[data-id=\"scoreNum\"]').text.strip()\n",
    "    review_num = restaurant.find_element(By.CSS_SELECTOR, 'em[data-id=\"numberofreview\"]').text.strip()\n",
    "    print(f'가게이름: {name}, 카테고리: {category}, 위치: {location},  평점: {rating}, 리뷰수: {review_num}')"
   ]
  }
 ],
 "metadata": {
  "kernelspec": {
   "display_name": "Python 3",
   "language": "python",
   "name": "python3"
  },
  "language_info": {
   "codemirror_mode": {
    "name": "ipython",
    "version": 3
   },
   "file_extension": ".py",
   "mimetype": "text/x-python",
   "name": "python",
   "nbconvert_exporter": "python",
   "pygments_lexer": "ipython3",
   "version": "3.9.13"
  },
  "orig_nbformat": 4
 },
 "nbformat": 4,
 "nbformat_minor": 2
}
