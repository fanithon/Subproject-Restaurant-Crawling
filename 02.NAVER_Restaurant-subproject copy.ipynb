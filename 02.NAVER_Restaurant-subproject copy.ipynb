{
 "cells": [
  {
   "attachments": {},
   "cell_type": "markdown",
   "metadata": {},
   "source": [
    "### 서브 프로젝트\n",
    "\n",
    "#### 주제 : 웹 크롤링을 통한 바디프로필 촬영 이후 가볼 맛집 정리\n",
    "\n",
    "##### 촬영장소 주변 맛집 정리\n",
    "- 상호명, 위치, 카테고리, 평점, 리뷰수\n",
    "- 논현, 강남, 광명, 철산\n"
   ]
  },
  {
   "cell_type": "code",
   "execution_count": 34,
   "metadata": {},
   "outputs": [],
   "source": [
    "from selenium import webdriver\n",
    "from selenium.webdriver.common.by import By\n",
    "from selenium.webdriver.common.keys import Keys\n",
    "from selenium.webdriver.chrome.options import Options\n",
    "from selenium.webdriver.chrome.service import Service\n",
    "from webdriver_manager.chrome import ChromeDriverManager\n",
    "import time"
   ]
  },
  {
   "cell_type": "code",
   "execution_count": 35,
   "metadata": {},
   "outputs": [],
   "source": [
    "options = Options()\n",
    "options.add_experimental_option(\"detach\", True)\n",
    "service = Service(ChromeDriverManager().install())\n",
    "driver = webdriver.Chrome(service=service, options=options)\n",
    "\n",
    "url = \"https://map.naver.com/v5/\"\n",
    "\n",
    "driver.get(url)\n",
    "\n",
    "time.sleep(1)\n",
    "\n",
    "# 이거 찾느라 엄청 고생함. T_T\n",
    "# find_element(By.CSS_SELECTOR, \"Value\")\n",
    "# Value 약어? 정리\n",
    "# ID = #ID / Class = .class / title = \"[title='검색어 입력']\" \n",
    "\n",
    "search = driver.find_element(By.CLASS_NAME, \"input_search\")\n",
    "search.send_keys(\"논현맛집\")\n",
    "search.send_keys(Keys.ENTER)"
   ]
  },
  {
   "cell_type": "code",
   "execution_count": 52,
   "metadata": {},
   "outputs": [
    {
     "ename": "NoSuchElementException",
     "evalue": "Message: no such element: Unable to locate element: {\"method\":\"css selector\",\"selector\":\".Ryr1F li\"}\n  (Session info: chrome=110.0.5481.180)\nStacktrace:\nBacktrace:\n\t(No symbol) [0x007237D3]\n\t(No symbol) [0x006B8B81]\n\t(No symbol) [0x005BB36D]\n\t(No symbol) [0x005ED382]\n\t(No symbol) [0x005ED4BB]\n\t(No symbol) [0x00623302]\n\t(No symbol) [0x0060B464]\n\t(No symbol) [0x00621215]\n\t(No symbol) [0x0060B216]\n\t(No symbol) [0x005E0D97]\n\t(No symbol) [0x005E253D]\n\tGetHandleVerifier [0x0099ABF2+2510930]\n\tGetHandleVerifier [0x009C8EC1+2700065]\n\tGetHandleVerifier [0x009CC86C+2714828]\n\tGetHandleVerifier [0x007D3480+645344]\n\t(No symbol) [0x006C0FD2]\n\t(No symbol) [0x006C6C68]\n\t(No symbol) [0x006C6D4B]\n\t(No symbol) [0x006D0D6B]\n\tBaseThreadInitThunk [0x76E57D69+25]\n\tRtlInitializeExceptionChain [0x77D5BB9B+107]\n\tRtlClearBits [0x77D5BB1F+191]\n",
     "output_type": "error",
     "traceback": [
      "\u001b[1;31m---------------------------------------------------------------------------\u001b[0m",
      "\u001b[1;31mNoSuchElementException\u001b[0m                    Traceback (most recent call last)",
      "Cell \u001b[1;32mIn[52], line 5\u001b[0m\n\u001b[0;32m      1\u001b[0m \u001b[39m'''\u001b[39;00m\n\u001b[0;32m      2\u001b[0m \u001b[39m#_pcmap_list_scroll_container.Ryr1F \u001b[39;00m\n\u001b[0;32m      3\u001b[0m \u001b[39m'''\u001b[39;00m\n\u001b[0;32m      4\u001b[0m \u001b[39m# 가게 리스트\u001b[39;00m\n\u001b[1;32m----> 5\u001b[0m restaurant_list \u001b[39m=\u001b[39m driver\u001b[39m.\u001b[39;49mfind_element(By\u001b[39m.\u001b[39;49mCSS_SELECTOR, \u001b[39m\"\u001b[39;49m\u001b[39m.Ryr1F li\u001b[39;49m\u001b[39m\"\u001b[39;49m)\n",
      "File \u001b[1;32mc:\\Users\\Playdata\\anaconda3\\lib\\site-packages\\selenium\\webdriver\\remote\\webdriver.py:830\u001b[0m, in \u001b[0;36mWebDriver.find_element\u001b[1;34m(self, by, value)\u001b[0m\n\u001b[0;32m    827\u001b[0m     by \u001b[39m=\u001b[39m By\u001b[39m.\u001b[39mCSS_SELECTOR\n\u001b[0;32m    828\u001b[0m     value \u001b[39m=\u001b[39m \u001b[39mf\u001b[39m\u001b[39m'\u001b[39m\u001b[39m[name=\u001b[39m\u001b[39m\"\u001b[39m\u001b[39m{\u001b[39;00mvalue\u001b[39m}\u001b[39;00m\u001b[39m\"\u001b[39m\u001b[39m]\u001b[39m\u001b[39m'\u001b[39m\n\u001b[1;32m--> 830\u001b[0m \u001b[39mreturn\u001b[39;00m \u001b[39mself\u001b[39;49m\u001b[39m.\u001b[39;49mexecute(Command\u001b[39m.\u001b[39;49mFIND_ELEMENT, {\u001b[39m\"\u001b[39;49m\u001b[39musing\u001b[39;49m\u001b[39m\"\u001b[39;49m: by, \u001b[39m\"\u001b[39;49m\u001b[39mvalue\u001b[39;49m\u001b[39m\"\u001b[39;49m: value})[\u001b[39m\"\u001b[39m\u001b[39mvalue\u001b[39m\u001b[39m\"\u001b[39m]\n",
      "File \u001b[1;32mc:\\Users\\Playdata\\anaconda3\\lib\\site-packages\\selenium\\webdriver\\remote\\webdriver.py:440\u001b[0m, in \u001b[0;36mWebDriver.execute\u001b[1;34m(self, driver_command, params)\u001b[0m\n\u001b[0;32m    438\u001b[0m response \u001b[39m=\u001b[39m \u001b[39mself\u001b[39m\u001b[39m.\u001b[39mcommand_executor\u001b[39m.\u001b[39mexecute(driver_command, params)\n\u001b[0;32m    439\u001b[0m \u001b[39mif\u001b[39;00m response:\n\u001b[1;32m--> 440\u001b[0m     \u001b[39mself\u001b[39;49m\u001b[39m.\u001b[39;49merror_handler\u001b[39m.\u001b[39;49mcheck_response(response)\n\u001b[0;32m    441\u001b[0m     response[\u001b[39m\"\u001b[39m\u001b[39mvalue\u001b[39m\u001b[39m\"\u001b[39m] \u001b[39m=\u001b[39m \u001b[39mself\u001b[39m\u001b[39m.\u001b[39m_unwrap_value(response\u001b[39m.\u001b[39mget(\u001b[39m\"\u001b[39m\u001b[39mvalue\u001b[39m\u001b[39m\"\u001b[39m, \u001b[39mNone\u001b[39;00m))\n\u001b[0;32m    442\u001b[0m     \u001b[39mreturn\u001b[39;00m response\n",
      "File \u001b[1;32mc:\\Users\\Playdata\\anaconda3\\lib\\site-packages\\selenium\\webdriver\\remote\\errorhandler.py:245\u001b[0m, in \u001b[0;36mErrorHandler.check_response\u001b[1;34m(self, response)\u001b[0m\n\u001b[0;32m    243\u001b[0m         alert_text \u001b[39m=\u001b[39m value[\u001b[39m\"\u001b[39m\u001b[39malert\u001b[39m\u001b[39m\"\u001b[39m]\u001b[39m.\u001b[39mget(\u001b[39m\"\u001b[39m\u001b[39mtext\u001b[39m\u001b[39m\"\u001b[39m)\n\u001b[0;32m    244\u001b[0m     \u001b[39mraise\u001b[39;00m exception_class(message, screen, stacktrace, alert_text)  \u001b[39m# type: ignore[call-arg]  # mypy is not smart enough here\u001b[39;00m\n\u001b[1;32m--> 245\u001b[0m \u001b[39mraise\u001b[39;00m exception_class(message, screen, stacktrace)\n",
      "\u001b[1;31mNoSuchElementException\u001b[0m: Message: no such element: Unable to locate element: {\"method\":\"css selector\",\"selector\":\".Ryr1F li\"}\n  (Session info: chrome=110.0.5481.180)\nStacktrace:\nBacktrace:\n\t(No symbol) [0x007237D3]\n\t(No symbol) [0x006B8B81]\n\t(No symbol) [0x005BB36D]\n\t(No symbol) [0x005ED382]\n\t(No symbol) [0x005ED4BB]\n\t(No symbol) [0x00623302]\n\t(No symbol) [0x0060B464]\n\t(No symbol) [0x00621215]\n\t(No symbol) [0x0060B216]\n\t(No symbol) [0x005E0D97]\n\t(No symbol) [0x005E253D]\n\tGetHandleVerifier [0x0099ABF2+2510930]\n\tGetHandleVerifier [0x009C8EC1+2700065]\n\tGetHandleVerifier [0x009CC86C+2714828]\n\tGetHandleVerifier [0x007D3480+645344]\n\t(No symbol) [0x006C0FD2]\n\t(No symbol) [0x006C6C68]\n\t(No symbol) [0x006C6D4B]\n\t(No symbol) [0x006D0D6B]\n\tBaseThreadInitThunk [0x76E57D69+25]\n\tRtlInitializeExceptionChain [0x77D5BB9B+107]\n\tRtlClearBits [0x77D5BB1F+191]\n"
     ]
    }
   ],
   "source": [
    "'''\n",
    "#_pcmap_list_scroll_container.Ryr1F \n",
    "'''\n",
    "# 가게 리스트\n",
    "restaurant_list = driver.find_element(By.CSS_SELECTOR, \".Ryr1F li\")"
   ]
  },
  {
   "cell_type": "code",
   "execution_count": 10,
   "metadata": {},
   "outputs": [
    {
     "ename": "NameError",
     "evalue": "name 'restaurant_list' is not defined",
     "output_type": "error",
     "traceback": [
      "\u001b[1;31m---------------------------------------------------------------------------\u001b[0m",
      "\u001b[1;31mNameError\u001b[0m                                 Traceback (most recent call last)",
      "Cell \u001b[1;32mIn[10], line 1\u001b[0m\n\u001b[1;32m----> 1\u001b[0m \u001b[39mlen\u001b[39m(restaurant_list)\n",
      "\u001b[1;31mNameError\u001b[0m: name 'restaurant_list' is not defined"
     ]
    }
   ],
   "source": [
    "len(restaurant_list)"
   ]
  }
 ],
 "metadata": {
  "kernelspec": {
   "display_name": "Python 3",
   "language": "python",
   "name": "python3"
  },
  "language_info": {
   "codemirror_mode": {
    "name": "ipython",
    "version": 3
   },
   "file_extension": ".py",
   "mimetype": "text/x-python",
   "name": "python",
   "nbconvert_exporter": "python",
   "pygments_lexer": "ipython3",
   "version": "3.9.13"
  },
  "orig_nbformat": 4
 },
 "nbformat": 4,
 "nbformat_minor": 2
}
