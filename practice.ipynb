{
 "cells": [
  {
   "cell_type": "code",
   "execution_count": 5,
   "metadata": {},
   "outputs": [
    {
     "ename": "NoSuchElementException",
     "evalue": "Message: no such element: Unable to locate element: {\"method\":\"css selector\",\"selector\":\"input_box\"}\n  (Session info: chrome=110.0.5481.178)\nStacktrace:\nBacktrace:\n\t(No symbol) [0x00B137D3]\n\t(No symbol) [0x00AA8B81]\n\t(No symbol) [0x009AB36D]\n\t(No symbol) [0x009DD382]\n\t(No symbol) [0x009DD4BB]\n\t(No symbol) [0x00A13302]\n\t(No symbol) [0x009FB464]\n\t(No symbol) [0x00A11215]\n\t(No symbol) [0x009FB216]\n\t(No symbol) [0x009D0D97]\n\t(No symbol) [0x009D253D]\n\tGetHandleVerifier [0x00D8ABF2+2510930]\n\tGetHandleVerifier [0x00DB8EC1+2700065]\n\tGetHandleVerifier [0x00DBC86C+2714828]\n\tGetHandleVerifier [0x00BC3480+645344]\n\t(No symbol) [0x00AB0FD2]\n\t(No symbol) [0x00AB6C68]\n\t(No symbol) [0x00AB6D4B]\n\t(No symbol) [0x00AC0D6B]\n\tBaseThreadInitThunk [0x76E57D69+25]\n\tRtlInitializeExceptionChain [0x77D5BB9B+107]\n\tRtlClearBits [0x77D5BB1F+191]\n",
     "output_type": "error",
     "traceback": [
      "\u001b[1;31m---------------------------------------------------------------------------\u001b[0m",
      "\u001b[1;31mNoSuchElementException\u001b[0m                    Traceback (most recent call last)",
      "Cell \u001b[1;32mIn[5], line 13\u001b[0m\n\u001b[0;32m     10\u001b[0m driver\u001b[39m.\u001b[39mget(\u001b[39m'\u001b[39m\u001b[39mhttps://map.naver.com/v5/\u001b[39m\u001b[39m'\u001b[39m)\n\u001b[0;32m     12\u001b[0m \u001b[39m# 검색창에 검색어 입력 후 검색\u001b[39;00m\n\u001b[1;32m---> 13\u001b[0m search_box \u001b[39m=\u001b[39m driver\u001b[39m.\u001b[39;49mfind_element(By\u001b[39m.\u001b[39;49mCSS_SELECTOR,\u001b[39m'\u001b[39;49m\u001b[39minput_box\u001b[39;49m\u001b[39m'\u001b[39;49m)\n\u001b[0;32m     14\u001b[0m search_box\u001b[39m.\u001b[39msend_keys(\u001b[39m'\u001b[39m\u001b[39m서울특별시청\u001b[39m\u001b[39m'\u001b[39m)\n\u001b[0;32m     15\u001b[0m search_box\u001b[39m.\u001b[39msend_keys(Keys\u001b[39m.\u001b[39mRETURN)\n",
      "File \u001b[1;32mc:\\Users\\Playdata\\anaconda3\\lib\\site-packages\\selenium\\webdriver\\remote\\webdriver.py:830\u001b[0m, in \u001b[0;36mWebDriver.find_element\u001b[1;34m(self, by, value)\u001b[0m\n\u001b[0;32m    827\u001b[0m     by \u001b[39m=\u001b[39m By\u001b[39m.\u001b[39mCSS_SELECTOR\n\u001b[0;32m    828\u001b[0m     value \u001b[39m=\u001b[39m \u001b[39mf\u001b[39m\u001b[39m'\u001b[39m\u001b[39m[name=\u001b[39m\u001b[39m\"\u001b[39m\u001b[39m{\u001b[39;00mvalue\u001b[39m}\u001b[39;00m\u001b[39m\"\u001b[39m\u001b[39m]\u001b[39m\u001b[39m'\u001b[39m\n\u001b[1;32m--> 830\u001b[0m \u001b[39mreturn\u001b[39;00m \u001b[39mself\u001b[39;49m\u001b[39m.\u001b[39;49mexecute(Command\u001b[39m.\u001b[39;49mFIND_ELEMENT, {\u001b[39m\"\u001b[39;49m\u001b[39musing\u001b[39;49m\u001b[39m\"\u001b[39;49m: by, \u001b[39m\"\u001b[39;49m\u001b[39mvalue\u001b[39;49m\u001b[39m\"\u001b[39;49m: value})[\u001b[39m\"\u001b[39m\u001b[39mvalue\u001b[39m\u001b[39m\"\u001b[39m]\n",
      "File \u001b[1;32mc:\\Users\\Playdata\\anaconda3\\lib\\site-packages\\selenium\\webdriver\\remote\\webdriver.py:440\u001b[0m, in \u001b[0;36mWebDriver.execute\u001b[1;34m(self, driver_command, params)\u001b[0m\n\u001b[0;32m    438\u001b[0m response \u001b[39m=\u001b[39m \u001b[39mself\u001b[39m\u001b[39m.\u001b[39mcommand_executor\u001b[39m.\u001b[39mexecute(driver_command, params)\n\u001b[0;32m    439\u001b[0m \u001b[39mif\u001b[39;00m response:\n\u001b[1;32m--> 440\u001b[0m     \u001b[39mself\u001b[39;49m\u001b[39m.\u001b[39;49merror_handler\u001b[39m.\u001b[39;49mcheck_response(response)\n\u001b[0;32m    441\u001b[0m     response[\u001b[39m\"\u001b[39m\u001b[39mvalue\u001b[39m\u001b[39m\"\u001b[39m] \u001b[39m=\u001b[39m \u001b[39mself\u001b[39m\u001b[39m.\u001b[39m_unwrap_value(response\u001b[39m.\u001b[39mget(\u001b[39m\"\u001b[39m\u001b[39mvalue\u001b[39m\u001b[39m\"\u001b[39m, \u001b[39mNone\u001b[39;00m))\n\u001b[0;32m    442\u001b[0m     \u001b[39mreturn\u001b[39;00m response\n",
      "File \u001b[1;32mc:\\Users\\Playdata\\anaconda3\\lib\\site-packages\\selenium\\webdriver\\remote\\errorhandler.py:245\u001b[0m, in \u001b[0;36mErrorHandler.check_response\u001b[1;34m(self, response)\u001b[0m\n\u001b[0;32m    243\u001b[0m         alert_text \u001b[39m=\u001b[39m value[\u001b[39m\"\u001b[39m\u001b[39malert\u001b[39m\u001b[39m\"\u001b[39m]\u001b[39m.\u001b[39mget(\u001b[39m\"\u001b[39m\u001b[39mtext\u001b[39m\u001b[39m\"\u001b[39m)\n\u001b[0;32m    244\u001b[0m     \u001b[39mraise\u001b[39;00m exception_class(message, screen, stacktrace, alert_text)  \u001b[39m# type: ignore[call-arg]  # mypy is not smart enough here\u001b[39;00m\n\u001b[1;32m--> 245\u001b[0m \u001b[39mraise\u001b[39;00m exception_class(message, screen, stacktrace)\n",
      "\u001b[1;31mNoSuchElementException\u001b[0m: Message: no such element: Unable to locate element: {\"method\":\"css selector\",\"selector\":\"input_box\"}\n  (Session info: chrome=110.0.5481.178)\nStacktrace:\nBacktrace:\n\t(No symbol) [0x00B137D3]\n\t(No symbol) [0x00AA8B81]\n\t(No symbol) [0x009AB36D]\n\t(No symbol) [0x009DD382]\n\t(No symbol) [0x009DD4BB]\n\t(No symbol) [0x00A13302]\n\t(No symbol) [0x009FB464]\n\t(No symbol) [0x00A11215]\n\t(No symbol) [0x009FB216]\n\t(No symbol) [0x009D0D97]\n\t(No symbol) [0x009D253D]\n\tGetHandleVerifier [0x00D8ABF2+2510930]\n\tGetHandleVerifier [0x00DB8EC1+2700065]\n\tGetHandleVerifier [0x00DBC86C+2714828]\n\tGetHandleVerifier [0x00BC3480+645344]\n\t(No symbol) [0x00AB0FD2]\n\t(No symbol) [0x00AB6C68]\n\t(No symbol) [0x00AB6D4B]\n\t(No symbol) [0x00AC0D6B]\n\tBaseThreadInitThunk [0x76E57D69+25]\n\tRtlInitializeExceptionChain [0x77D5BB9B+107]\n\tRtlClearBits [0x77D5BB1F+191]\n"
     ]
    }
   ],
   "source": [
    "from selenium import webdriver\n",
    "from selenium.webdriver.common.keys import Keys\n",
    "from selenium.webdriver.common.by import By\n",
    "import time\n",
    "\n",
    "# 크롬 브라우저 실행\n",
    "driver = webdriver.Chrome()\n",
    "\n",
    "# 네이버지도 사이트로 이동\n",
    "driver.get('https://map.naver.com/v5/')\n",
    "\n",
    "# 검색창에 검색어 입력 후 검색\n",
    "search_box = driver.find_element(By.CSS_SELECTOR,'input_box')\n",
    "search_box.send_keys('서울특별시청')\n",
    "search_box.send_keys(Keys.RETURN)\n",
    "\n",
    "# 검색 결과가 나타날 때까지 대기\n",
    "time.sleep(3)\n",
    "\n",
    "# 검색 결과에서 첫번째 항목 클릭\n",
    "search_result = driver.find_element(By.CSS_SELECTOR,'#_pcmap_list_scroll_container .lst_site .item.site .tit a')\n",
    "search_result.click()\n",
    "\n",
    "# 검색 결과 페이지에서 정보 스크래핑\n",
    "name = driver.find_element(By.CSS_SELECTOR,'.name').text\n",
    "address = driver.find_element(By.CSS_SELECTOR,'.addr').text\n",
    "phone = driver.find_element(By.CSS_SELECTOR,'.tel').text\n",
    "\n",
    "print(name)\n",
    "print(address)\n",
    "print(phone)\n",
    "\n",
    "# 브라우저 종료\n",
    "driver.quit()"
   ]
  }
 ],
 "metadata": {
  "kernelspec": {
   "display_name": "base",
   "language": "python",
   "name": "python3"
  },
  "language_info": {
   "codemirror_mode": {
    "name": "ipython",
    "version": 3
   },
   "file_extension": ".py",
   "mimetype": "text/x-python",
   "name": "python",
   "nbconvert_exporter": "python",
   "pygments_lexer": "ipython3",
   "version": "3.9.13"
  },
  "orig_nbformat": 4
 },
 "nbformat": 4,
 "nbformat_minor": 2
}
