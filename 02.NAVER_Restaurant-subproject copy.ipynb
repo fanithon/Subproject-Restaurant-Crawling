{
 "cells": [
  {
   "attachments": {},
   "cell_type": "markdown",
   "metadata": {},
   "source": [
    "### 서브 프로젝트\n",
    "\n",
    "#### 주제 : 웹 크롤링을 통한 바디프로필 촬영 이후 가볼 맛집 정리\n",
    "\n",
    "##### 촬영장소 주변 맛집 정리\n",
    "- 상호명, 위치, 카테고리, 평점, 리뷰수\n",
    "- 논현, 강남, 광명, 철산\n"
   ]
  },
  {
   "cell_type": "code",
   "execution_count": 25,
   "metadata": {},
   "outputs": [],
   "source": [
    "# 필요 모듈\n",
    "import requests\n",
    "from bs4 import BeautifulSoup\n",
    "from selenium import webdriver\n",
    "from selenium.webdriver.chrome.service import Service\n",
    "from webdriver_manager.chrome import ChromeDriverManager\n",
    "from selenium.webdriver.common.by import By\n",
    "import time\n",
    "from time import sleep\n",
    "from selenium.webdriver.common.keys import Keys\n",
    "from selenium.webdriver.support.ui import WebDriverWait\n",
    "from selenium.webdriver.support import expected_conditions as EC\n"
   ]
  },
  {
   "cell_type": "code",
   "execution_count": 58,
   "metadata": {},
   "outputs": [
    {
     "name": "stderr",
     "output_type": "stream",
     "text": [
      "C:\\Users\\Playdata\\AppData\\Local\\Temp\\ipykernel_14736\\3559695992.py:5: DeprecationWarning: executable_path has been deprecated, please pass in a Service object\n",
      "  driver = webdriver.Chrome(driver_path, options=options)\n"
     ]
    },
    {
     "ename": "NoSuchElementException",
     "evalue": "Message: no such element: Unable to locate element: {\"method\":\"css selector\",\"selector\":\"box_searchbar\"}\n  (Session info: chrome=110.0.5481.178)\nStacktrace:\nBacktrace:\n\t(No symbol) [0x00B137D3]\n\t(No symbol) [0x00AA8B81]\n\t(No symbol) [0x009AB36D]\n\t(No symbol) [0x009DD382]\n\t(No symbol) [0x009DD4BB]\n\t(No symbol) [0x00A13302]\n\t(No symbol) [0x009FB464]\n\t(No symbol) [0x00A11215]\n\t(No symbol) [0x009FB216]\n\t(No symbol) [0x009D0D97]\n\t(No symbol) [0x009D253D]\n\tGetHandleVerifier [0x00D8ABF2+2510930]\n\tGetHandleVerifier [0x00DB8EC1+2700065]\n\tGetHandleVerifier [0x00DBC86C+2714828]\n\tGetHandleVerifier [0x00BC3480+645344]\n\t(No symbol) [0x00AB0FD2]\n\t(No symbol) [0x00AB6C68]\n\t(No symbol) [0x00AB6D4B]\n\t(No symbol) [0x00AC0D6B]\n\tBaseThreadInitThunk [0x76E57D69+25]\n\tRtlInitializeExceptionChain [0x77D5BB9B+107]\n\tRtlClearBits [0x77D5BB1F+191]\n",
     "output_type": "error",
     "traceback": [
      "\u001b[1;31m---------------------------------------------------------------------------\u001b[0m",
      "\u001b[1;31mNoSuchElementException\u001b[0m                    Traceback (most recent call last)",
      "Cell \u001b[1;32mIn[58], line 11\u001b[0m\n\u001b[0;32m      8\u001b[0m driver\u001b[39m.\u001b[39mget(\u001b[39m\"\u001b[39m\u001b[39mhttps://map.kakao.com/\u001b[39m\u001b[39m\"\u001b[39m)\n\u001b[0;32m     10\u001b[0m \u001b[39m# Find the search box and enter the search query\u001b[39;00m\n\u001b[1;32m---> 11\u001b[0m search_box \u001b[39m=\u001b[39m driver\u001b[39m.\u001b[39;49mfind_element(By\u001b[39m.\u001b[39;49mCSS_SELECTOR, \u001b[39m'\u001b[39;49m\u001b[39mbox_searchbar\u001b[39;49m\u001b[39m'\u001b[39;49m)\n\u001b[0;32m     12\u001b[0m search_box\u001b[39m.\u001b[39mclear()  \u001b[39m# Clear the search box in case there's any existing text\u001b[39;00m\n\u001b[0;32m     13\u001b[0m search_query \u001b[39m=\u001b[39m \u001b[39m\"\u001b[39m\u001b[39m논현 맛집\u001b[39m\u001b[39m\"\u001b[39m\n",
      "File \u001b[1;32mc:\\Users\\Playdata\\anaconda3\\lib\\site-packages\\selenium\\webdriver\\remote\\webdriver.py:830\u001b[0m, in \u001b[0;36mWebDriver.find_element\u001b[1;34m(self, by, value)\u001b[0m\n\u001b[0;32m    827\u001b[0m     by \u001b[39m=\u001b[39m By\u001b[39m.\u001b[39mCSS_SELECTOR\n\u001b[0;32m    828\u001b[0m     value \u001b[39m=\u001b[39m \u001b[39mf\u001b[39m\u001b[39m'\u001b[39m\u001b[39m[name=\u001b[39m\u001b[39m\"\u001b[39m\u001b[39m{\u001b[39;00mvalue\u001b[39m}\u001b[39;00m\u001b[39m\"\u001b[39m\u001b[39m]\u001b[39m\u001b[39m'\u001b[39m\n\u001b[1;32m--> 830\u001b[0m \u001b[39mreturn\u001b[39;00m \u001b[39mself\u001b[39;49m\u001b[39m.\u001b[39;49mexecute(Command\u001b[39m.\u001b[39;49mFIND_ELEMENT, {\u001b[39m\"\u001b[39;49m\u001b[39musing\u001b[39;49m\u001b[39m\"\u001b[39;49m: by, \u001b[39m\"\u001b[39;49m\u001b[39mvalue\u001b[39;49m\u001b[39m\"\u001b[39;49m: value})[\u001b[39m\"\u001b[39m\u001b[39mvalue\u001b[39m\u001b[39m\"\u001b[39m]\n",
      "File \u001b[1;32mc:\\Users\\Playdata\\anaconda3\\lib\\site-packages\\selenium\\webdriver\\remote\\webdriver.py:440\u001b[0m, in \u001b[0;36mWebDriver.execute\u001b[1;34m(self, driver_command, params)\u001b[0m\n\u001b[0;32m    438\u001b[0m response \u001b[39m=\u001b[39m \u001b[39mself\u001b[39m\u001b[39m.\u001b[39mcommand_executor\u001b[39m.\u001b[39mexecute(driver_command, params)\n\u001b[0;32m    439\u001b[0m \u001b[39mif\u001b[39;00m response:\n\u001b[1;32m--> 440\u001b[0m     \u001b[39mself\u001b[39;49m\u001b[39m.\u001b[39;49merror_handler\u001b[39m.\u001b[39;49mcheck_response(response)\n\u001b[0;32m    441\u001b[0m     response[\u001b[39m\"\u001b[39m\u001b[39mvalue\u001b[39m\u001b[39m\"\u001b[39m] \u001b[39m=\u001b[39m \u001b[39mself\u001b[39m\u001b[39m.\u001b[39m_unwrap_value(response\u001b[39m.\u001b[39mget(\u001b[39m\"\u001b[39m\u001b[39mvalue\u001b[39m\u001b[39m\"\u001b[39m, \u001b[39mNone\u001b[39;00m))\n\u001b[0;32m    442\u001b[0m     \u001b[39mreturn\u001b[39;00m response\n",
      "File \u001b[1;32mc:\\Users\\Playdata\\anaconda3\\lib\\site-packages\\selenium\\webdriver\\remote\\errorhandler.py:245\u001b[0m, in \u001b[0;36mErrorHandler.check_response\u001b[1;34m(self, response)\u001b[0m\n\u001b[0;32m    243\u001b[0m         alert_text \u001b[39m=\u001b[39m value[\u001b[39m\"\u001b[39m\u001b[39malert\u001b[39m\u001b[39m\"\u001b[39m]\u001b[39m.\u001b[39mget(\u001b[39m\"\u001b[39m\u001b[39mtext\u001b[39m\u001b[39m\"\u001b[39m)\n\u001b[0;32m    244\u001b[0m     \u001b[39mraise\u001b[39;00m exception_class(message, screen, stacktrace, alert_text)  \u001b[39m# type: ignore[call-arg]  # mypy is not smart enough here\u001b[39;00m\n\u001b[1;32m--> 245\u001b[0m \u001b[39mraise\u001b[39;00m exception_class(message, screen, stacktrace)\n",
      "\u001b[1;31mNoSuchElementException\u001b[0m: Message: no such element: Unable to locate element: {\"method\":\"css selector\",\"selector\":\"box_searchbar\"}\n  (Session info: chrome=110.0.5481.178)\nStacktrace:\nBacktrace:\n\t(No symbol) [0x00B137D3]\n\t(No symbol) [0x00AA8B81]\n\t(No symbol) [0x009AB36D]\n\t(No symbol) [0x009DD382]\n\t(No symbol) [0x009DD4BB]\n\t(No symbol) [0x00A13302]\n\t(No symbol) [0x009FB464]\n\t(No symbol) [0x00A11215]\n\t(No symbol) [0x009FB216]\n\t(No symbol) [0x009D0D97]\n\t(No symbol) [0x009D253D]\n\tGetHandleVerifier [0x00D8ABF2+2510930]\n\tGetHandleVerifier [0x00DB8EC1+2700065]\n\tGetHandleVerifier [0x00DBC86C+2714828]\n\tGetHandleVerifier [0x00BC3480+645344]\n\t(No symbol) [0x00AB0FD2]\n\t(No symbol) [0x00AB6C68]\n\t(No symbol) [0x00AB6D4B]\n\t(No symbol) [0x00AC0D6B]\n\tBaseThreadInitThunk [0x76E57D69+25]\n\tRtlInitializeExceptionChain [0x77D5BB9B+107]\n\tRtlClearBits [0x77D5BB1F+191]\n"
     ]
    }
   ],
   "source": [
    "# Set up the Chrome webdriver\n",
    "driver_path = \"./chromedriver.exe\"\n",
    "options = webdriver.ChromeOptions()\n",
    "options.add_argument(\"--start-minimized\")  # Open browser in maximized window\n",
    "driver = webdriver.Chrome(driver_path, options=options)\n",
    "\n",
    "# Navigate to the Naver Map website\n",
    "driver.get(\"https://map.kakao.com/\")\n",
    "\n",
    "# Find the search box and enter the search query\n",
    "search_box = driver.find_element(By.CSS_SELECTOR, 'box_searchbar')\n",
    "search_query = \"논현 맛집\"\n",
    "search_box.send_keys(search_query)\n",
    "\n",
    "time.sleep(2)\n",
    "\n",
    "# Press Enter or click the search button\n",
    "search_box.send_keys(Keys.ENTER)"
   ]
  },
  {
   "cell_type": "code",
   "execution_count": 56,
   "metadata": {},
   "outputs": [
    {
     "name": "stderr",
     "output_type": "stream",
     "text": [
      "C:\\Users\\Playdata\\AppData\\Local\\Temp\\ipykernel_14736\\1777880717.py:5: DeprecationWarning: executable_path has been deprecated, please pass in a Service object\n",
      "  driver = webdriver.Chrome(driver_path, options=options)\n"
     ]
    },
    {
     "ename": "NoSuchElementException",
     "evalue": "Message: no such element: Unable to locate element: {\"method\":\"css selector\",\"selector\":\"div.input_box\"}\n  (Session info: chrome=110.0.5481.178)\nStacktrace:\nBacktrace:\n\t(No symbol) [0x00B137D3]\n\t(No symbol) [0x00AA8B81]\n\t(No symbol) [0x009AB36D]\n\t(No symbol) [0x009DD382]\n\t(No symbol) [0x009DD4BB]\n\t(No symbol) [0x00A13302]\n\t(No symbol) [0x009FB464]\n\t(No symbol) [0x00A11215]\n\t(No symbol) [0x009FB216]\n\t(No symbol) [0x009D0D97]\n\t(No symbol) [0x009D253D]\n\tGetHandleVerifier [0x00D8ABF2+2510930]\n\tGetHandleVerifier [0x00DB8EC1+2700065]\n\tGetHandleVerifier [0x00DBC86C+2714828]\n\tGetHandleVerifier [0x00BC3480+645344]\n\t(No symbol) [0x00AB0FD2]\n\t(No symbol) [0x00AB6C68]\n\t(No symbol) [0x00AB6D4B]\n\t(No symbol) [0x00AC0D6B]\n\tBaseThreadInitThunk [0x76E57D69+25]\n\tRtlInitializeExceptionChain [0x77D5BB9B+107]\n\tRtlClearBits [0x77D5BB1F+191]\n",
     "output_type": "error",
     "traceback": [
      "\u001b[1;31m---------------------------------------------------------------------------\u001b[0m",
      "\u001b[1;31mNoSuchElementException\u001b[0m                    Traceback (most recent call last)",
      "Cell \u001b[1;32mIn[56], line 11\u001b[0m\n\u001b[0;32m      8\u001b[0m driver\u001b[39m.\u001b[39mget(\u001b[39m\"\u001b[39m\u001b[39mhttps://map.naver.com/v5/\u001b[39m\u001b[39m\"\u001b[39m)\n\u001b[0;32m     10\u001b[0m \u001b[39m#검색창에 검색어 입력하기\u001b[39;00m\n\u001b[1;32m---> 11\u001b[0m search_box \u001b[39m=\u001b[39m driver\u001b[39m.\u001b[39;49mfind_element(By\u001b[39m.\u001b[39;49mCSS_SELECTOR,\u001b[39m'\u001b[39;49m\u001b[39mdiv.input_box\u001b[39;49m\u001b[39m'\u001b[39;49m)\n\u001b[0;32m     12\u001b[0m search_box\u001b[39m.\u001b[39msend_keys(\u001b[39m\"\u001b[39m\u001b[39m치킨\u001b[39m\u001b[39m\"\u001b[39m)\n\u001b[0;32m     14\u001b[0m time\u001b[39m.\u001b[39msleep(\u001b[39m3\u001b[39m)\n",
      "File \u001b[1;32mc:\\Users\\Playdata\\anaconda3\\lib\\site-packages\\selenium\\webdriver\\remote\\webdriver.py:830\u001b[0m, in \u001b[0;36mWebDriver.find_element\u001b[1;34m(self, by, value)\u001b[0m\n\u001b[0;32m    827\u001b[0m     by \u001b[39m=\u001b[39m By\u001b[39m.\u001b[39mCSS_SELECTOR\n\u001b[0;32m    828\u001b[0m     value \u001b[39m=\u001b[39m \u001b[39mf\u001b[39m\u001b[39m'\u001b[39m\u001b[39m[name=\u001b[39m\u001b[39m\"\u001b[39m\u001b[39m{\u001b[39;00mvalue\u001b[39m}\u001b[39;00m\u001b[39m\"\u001b[39m\u001b[39m]\u001b[39m\u001b[39m'\u001b[39m\n\u001b[1;32m--> 830\u001b[0m \u001b[39mreturn\u001b[39;00m \u001b[39mself\u001b[39;49m\u001b[39m.\u001b[39;49mexecute(Command\u001b[39m.\u001b[39;49mFIND_ELEMENT, {\u001b[39m\"\u001b[39;49m\u001b[39musing\u001b[39;49m\u001b[39m\"\u001b[39;49m: by, \u001b[39m\"\u001b[39;49m\u001b[39mvalue\u001b[39;49m\u001b[39m\"\u001b[39;49m: value})[\u001b[39m\"\u001b[39m\u001b[39mvalue\u001b[39m\u001b[39m\"\u001b[39m]\n",
      "File \u001b[1;32mc:\\Users\\Playdata\\anaconda3\\lib\\site-packages\\selenium\\webdriver\\remote\\webdriver.py:440\u001b[0m, in \u001b[0;36mWebDriver.execute\u001b[1;34m(self, driver_command, params)\u001b[0m\n\u001b[0;32m    438\u001b[0m response \u001b[39m=\u001b[39m \u001b[39mself\u001b[39m\u001b[39m.\u001b[39mcommand_executor\u001b[39m.\u001b[39mexecute(driver_command, params)\n\u001b[0;32m    439\u001b[0m \u001b[39mif\u001b[39;00m response:\n\u001b[1;32m--> 440\u001b[0m     \u001b[39mself\u001b[39;49m\u001b[39m.\u001b[39;49merror_handler\u001b[39m.\u001b[39;49mcheck_response(response)\n\u001b[0;32m    441\u001b[0m     response[\u001b[39m\"\u001b[39m\u001b[39mvalue\u001b[39m\u001b[39m\"\u001b[39m] \u001b[39m=\u001b[39m \u001b[39mself\u001b[39m\u001b[39m.\u001b[39m_unwrap_value(response\u001b[39m.\u001b[39mget(\u001b[39m\"\u001b[39m\u001b[39mvalue\u001b[39m\u001b[39m\"\u001b[39m, \u001b[39mNone\u001b[39;00m))\n\u001b[0;32m    442\u001b[0m     \u001b[39mreturn\u001b[39;00m response\n",
      "File \u001b[1;32mc:\\Users\\Playdata\\anaconda3\\lib\\site-packages\\selenium\\webdriver\\remote\\errorhandler.py:245\u001b[0m, in \u001b[0;36mErrorHandler.check_response\u001b[1;34m(self, response)\u001b[0m\n\u001b[0;32m    243\u001b[0m         alert_text \u001b[39m=\u001b[39m value[\u001b[39m\"\u001b[39m\u001b[39malert\u001b[39m\u001b[39m\"\u001b[39m]\u001b[39m.\u001b[39mget(\u001b[39m\"\u001b[39m\u001b[39mtext\u001b[39m\u001b[39m\"\u001b[39m)\n\u001b[0;32m    244\u001b[0m     \u001b[39mraise\u001b[39;00m exception_class(message, screen, stacktrace, alert_text)  \u001b[39m# type: ignore[call-arg]  # mypy is not smart enough here\u001b[39;00m\n\u001b[1;32m--> 245\u001b[0m \u001b[39mraise\u001b[39;00m exception_class(message, screen, stacktrace)\n",
      "\u001b[1;31mNoSuchElementException\u001b[0m: Message: no such element: Unable to locate element: {\"method\":\"css selector\",\"selector\":\"div.input_box\"}\n  (Session info: chrome=110.0.5481.178)\nStacktrace:\nBacktrace:\n\t(No symbol) [0x00B137D3]\n\t(No symbol) [0x00AA8B81]\n\t(No symbol) [0x009AB36D]\n\t(No symbol) [0x009DD382]\n\t(No symbol) [0x009DD4BB]\n\t(No symbol) [0x00A13302]\n\t(No symbol) [0x009FB464]\n\t(No symbol) [0x00A11215]\n\t(No symbol) [0x009FB216]\n\t(No symbol) [0x009D0D97]\n\t(No symbol) [0x009D253D]\n\tGetHandleVerifier [0x00D8ABF2+2510930]\n\tGetHandleVerifier [0x00DB8EC1+2700065]\n\tGetHandleVerifier [0x00DBC86C+2714828]\n\tGetHandleVerifier [0x00BC3480+645344]\n\t(No symbol) [0x00AB0FD2]\n\t(No symbol) [0x00AB6C68]\n\t(No symbol) [0x00AB6D4B]\n\t(No symbol) [0x00AC0D6B]\n\tBaseThreadInitThunk [0x76E57D69+25]\n\tRtlInitializeExceptionChain [0x77D5BB9B+107]\n\tRtlClearBits [0x77D5BB1F+191]\n"
     ]
    }
   ],
   "source": [
    "# 크롬 브라우저 드라이버 세팅\n",
    "driver_path = \"./chromedriver.exe\"\n",
    "options = webdriver.ChromeOptions()\n",
    "options.add_argument(\"--strart-minimized\") # 브라우저 창 최소화하여 실행\n",
    "driver = webdriver.Chrome(driver_path, options=options)\n",
    "\n",
    "# 네이버지도 사이트 주소\n",
    "driver.get(\"https://map.naver.com/v5/\")\n",
    "\n",
    "#검색창에 검색어 입력하기\n",
    "search_box = driver.find_element(By.CSS_SELECTOR,'div.input_box')\n",
    "search_box.send_keys(\"치킨\")\n",
    "\n",
    "time.sleep(3)\n",
    "\n",
    "# 검색버튼 누르기\n",
    "search_button = driver.find_element(By.CSS_SELECTOR,'button.button_search')\n",
    "search_button.click()"
   ]
  },
  {
   "cell_type": "code",
   "execution_count": 57,
   "metadata": {},
   "outputs": [],
   "source": [
    "# 검색어 입력\n",
    "query = '파이썬 크롤링'\n",
    "\n",
    "# 검색 페이지에 접속\n",
    "url = f'https://search.naver.com/search.naver?query={query}'\n",
    "response = requests.get(url)\n",
    "\n",
    "# HTML 파싱\n",
    "soup = BeautifulSoup(response.text, 'html.parser')\n",
    "\n",
    "# 검색 결과 추출\n",
    "results = soup.select('.type01 > li')\n",
    "\n",
    "# 검색 결과 출력\n",
    "for result in results:\n",
    "    title = result.select_one('.news_tit').text\n",
    "    link = result.select_one('.news_tit')['href']\n",
    "    description = result.select_one('.dsc_wrap').text\n",
    "    print(title)\n",
    "    print(link)\n",
    "    print(description)\n",
    "    print()"
   ]
  },
  {
   "cell_type": "code",
   "execution_count": null,
   "metadata": {},
   "outputs": [],
   "source": []
  }
 ],
 "metadata": {
  "kernelspec": {
   "display_name": "Python 3",
   "language": "python",
   "name": "python3"
  },
  "language_info": {
   "codemirror_mode": {
    "name": "ipython",
    "version": 3
   },
   "file_extension": ".py",
   "mimetype": "text/x-python",
   "name": "python",
   "nbconvert_exporter": "python",
   "pygments_lexer": "ipython3",
   "version": "3.9.13"
  },
  "orig_nbformat": 4
 },
 "nbformat": 4,
 "nbformat_minor": 2
}
