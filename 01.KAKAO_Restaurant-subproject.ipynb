{
 "cells": [
  {
   "attachments": {},
   "cell_type": "markdown",
   "metadata": {},
   "source": [
    "### 서브 프로젝트\n",
    "\n",
    "#### 주제 : 웹 크롤링을 통한 바디프로필 촬영 이후 가볼 맛집 정리\n",
    "\n",
    "##### 촬영장소 주변 맛집 정리\n",
    "- 상호명, 위치, 카테고리, 평점, 리뷰수\n",
    "- 논현, 강남, 광명, 철산\n"
   ]
  },
  {
   "cell_type": "code",
   "execution_count": 4,
   "metadata": {},
   "outputs": [
    {
     "name": "stdout",
     "output_type": "stream",
     "text": [
      "Collecting webdriver_manager\n",
      "  Downloading webdriver_manager-3.8.5-py2.py3-none-any.whl (27 kB)\n",
      "Requirement already satisfied: requests in c:\\users\\hwan\\anaconda3\\lib\\site-packages (from webdriver_manager) (2.28.1)\n",
      "Requirement already satisfied: tqdm in c:\\users\\hwan\\anaconda3\\lib\\site-packages (from webdriver_manager) (4.64.1)\n",
      "Requirement already satisfied: packaging in c:\\users\\hwan\\anaconda3\\lib\\site-packages (from webdriver_manager) (21.3)\n",
      "Collecting python-dotenv\n",
      "  Downloading python_dotenv-1.0.0-py3-none-any.whl (19 kB)\n",
      "Requirement already satisfied: pyparsing!=3.0.5,>=2.0.2 in c:\\users\\hwan\\anaconda3\\lib\\site-packages (from packaging->webdriver_manager) (3.0.9)\n",
      "Requirement already satisfied: idna<4,>=2.5 in c:\\users\\hwan\\anaconda3\\lib\\site-packages (from requests->webdriver_manager) (3.3)\n",
      "Requirement already satisfied: charset-normalizer<3,>=2 in c:\\users\\hwan\\anaconda3\\lib\\site-packages (from requests->webdriver_manager) (2.0.4)\n",
      "Requirement already satisfied: certifi>=2017.4.17 in c:\\users\\hwan\\anaconda3\\lib\\site-packages (from requests->webdriver_manager) (2022.9.14)\n",
      "Requirement already satisfied: urllib3<1.27,>=1.21.1 in c:\\users\\hwan\\anaconda3\\lib\\site-packages (from requests->webdriver_manager) (1.26.11)\n",
      "Requirement already satisfied: colorama in c:\\users\\hwan\\anaconda3\\lib\\site-packages (from tqdm->webdriver_manager) (0.4.5)\n",
      "Installing collected packages: python-dotenv, webdriver_manager\n",
      "Successfully installed python-dotenv-1.0.0 webdriver_manager-3.8.5\n"
     ]
    }
   ],
   "source": [
    "# !pip install requests\n",
    "# !pip install bs4\n",
    "# !pip install selenium\n",
    "# !pip install webdriver_manager"
   ]
  },
  {
   "cell_type": "code",
   "execution_count": 2,
   "metadata": {},
   "outputs": [],
   "source": [
    "# 필요 모듈\n",
    "import requests\n",
    "from bs4 import BeautifulSoup\n",
    "from selenium import webdriver\n",
    "from selenium.webdriver.chrome.service import Service\n",
    "from selenium.webdriver.common.by import By\n",
    "from selenium.webdriver.common.keys import Keys\n",
    "from webdriver_manager.chrome import ChromeDriverManager\n",
    "import time\n",
    "from time import sleep\n",
    "from selenium.webdriver.support.ui import WebDriverWait\n",
    "from selenium.webdriver.support import expected_conditions as EC\n"
   ]
  },
  {
   "cell_type": "code",
   "execution_count": 59,
   "metadata": {},
   "outputs": [
    {
     "name": "stderr",
     "output_type": "stream",
     "text": [
      "C:\\Users\\hwan\\AppData\\Local\\Temp\\ipykernel_8768\\3554812865.py:5: DeprecationWarning: executable_path has been deprecated, please pass in a Service object\n",
      "  driver = webdriver.Chrome(driver_path, options=options)\n"
     ]
    }
   ],
   "source": [
    "# 브라우져 세팅\n",
    "driver_path = \"./chromedriver.exe\"\n",
    "options = webdriver.ChromeOptions()\n",
    "options.add_argument(\"--start-minimized\")  # Open browser in maximized window\n",
    "driver = webdriver.Chrome(driver_path, options=options)\n",
    "\n",
    "# 크롤링 주소 설정\n",
    "driver.get(\"https://map.kakao.com/\")\n",
    "\n",
    "\n",
    "\n",
    "# 검색창 찾고 검색어 입력 및 검색\n",
    "search = driver.find_element(By.ID, \"search.keyword.query\")\n",
    "search.send_keys('논현 맛집')\n",
    "search.send_keys(Keys.ENTER)\n",
    "\n",
    "# 페이지 추가하기\n",
    "# more = driver.find_elements(By.CLASS_NAME, \"more\")\n",
    "# driver.execute_script(\"arguments[0].click();\", more)\n",
    "# more.send_keys(Keys.ENTER)\n",
    "# driver.find_element(By.CSS_SELECTOR, \".more\").send_keys(Keys.ENTER)"
   ]
  },
  {
   "cell_type": "code",
   "execution_count": 54,
   "metadata": {},
   "outputs": [],
   "source": [
    "# 1페이지 가게 리스트 크롤링\n",
    "restaurant_list = driver.find_elements(By.CSS_SELECTOR, '.placelist li')\n"
   ]
  },
  {
   "cell_type": "code",
   "execution_count": 51,
   "metadata": {},
   "outputs": [
    {
     "data": {
      "text/plain": [
       "15"
      ]
     },
     "execution_count": 51,
     "metadata": {},
     "output_type": "execute_result"
    }
   ],
   "source": [
    "len(restaurant_list)"
   ]
  },
  {
   "cell_type": "code",
   "execution_count": 56,
   "metadata": {},
   "outputs": [
    {
     "name": "stdout",
     "output_type": "stream",
     "text": [
      "가게이름: 진미평양냉면, 카테고리: 냉면, 위치: 서울 강남구 학동로 305-3 정각빌딩 1층,  평점: 3.6, 리뷰수: 897\n",
      "가게이름: 리북집 논현직영점, 카테고리: 족발,보쌈, 위치: 서울 강남구 학동로2길 45 1층,  평점: 3.7, 리뷰수: 244\n",
      "가게이름: 한성칼국수, 카테고리: 한식, 위치: 서울 강남구 언주로148길 14 청호상가빌딩 가동 2층,  평점: 3.8, 리뷰수: 135\n",
      "가게이름: 대가방 본점, 카테고리: 중국요리, 위치: 서울 강남구 선릉로145길 13 럭스웨이빌딩 1층,  평점: 3.4, 리뷰수: 159\n",
      "가게이름: 일일향 2호점, 카테고리: 중국요리, 위치: 서울 강남구 봉은사로 167,  평점: 3.3, 리뷰수: 37\n",
      "가게이름: 세종한우 2호점, 카테고리: 육류,고기, 위치: 서울 강남구 논현로 642,  평점: 3.5, 리뷰수: 48\n",
      "가게이름: 유정식당, 카테고리: 한식, 위치: 서울 강남구 도산대로28길 14,  평점: 3.7, 리뷰수: 75\n",
      "가게이름: 홍명, 카테고리: 중식, 위치: 서울 강남구 논현로131길 10 1층,  평점: 3.4, 리뷰수: 138\n",
      "가게이름: 삼육가 논현직영점, 카테고리: 육류,고기, 위치: 서울 강남구 강남대로114길 8 지하1층,1층,  평점: 3.6, 리뷰수: 34\n",
      "가게이름: 크래버대게나라 강남점, 카테고리: 게,대게, 위치: 서울 강남구 언주로 620 현대인텔렉스빌딩 1층,  평점: 4.1, 리뷰수: 209\n",
      "가게이름: 해몽, 카테고리: 육류,고기, 위치: 서울 강남구 학동로41길 32,  평점: 4.1, 리뷰수: 218\n",
      "가게이름: 스시코우지, 카테고리: 초밥,롤, 위치: 서울 강남구 도산대로 318 어넥스 B동 3층,  평점: 4.4, 리뷰수: 156\n",
      "가게이름: 영동장어, 카테고리: 장어, 위치: 서울 강남구 언주로148길 8 1층,  평점: 4.5, 리뷰수: 164\n",
      "가게이름: 취영루 논현점, 카테고리: 중국요리, 위치: 서울 강남구 학동로2길 11,  평점: 3.0, 리뷰수: 24\n",
      "가게이름: 세광양대창 논현점, 카테고리: 곱창,막창, 위치: 서울 강남구 강남대로118길 12 부경빌딩 1층,  평점: 4.0, 리뷰수: 209\n"
     ]
    }
   ],
   "source": [
    "# 검색 첫번째 페이지 출력\n",
    "for restaurant in restaurant_list:\n",
    "    name = restaurant.find_element(By.CSS_SELECTOR, '.link_name').text.strip()\n",
    "    category = restaurant.find_element(By.CSS_SELECTOR, '.subcategory').text.strip()\n",
    "    location = restaurant.find_element(By.CSS_SELECTOR, 'p[data-id=\"address\"]').text.strip()\n",
    "    rating = restaurant.find_element(By.CSS_SELECTOR, 'div span .num[data-id=\"scoreNum\"]').text.strip()\n",
    "    review_num = restaurant.find_element(By.CSS_SELECTOR, 'em[data-id=\"numberofreview\"]').text.strip()\n",
    "    print(f'가게이름: {name}, 카테고리: {category}, 위치: {location},  평점: {rating}, 리뷰수: {review_num}')"
   ]
  },
  {
   "cell_type": "code",
   "execution_count": 61,
   "metadata": {},
   "outputs": [],
   "source": [
    "#  장소 더보기 버튼 클릭\n",
    "\n",
    "more = driver.find_element(By.CSS_SELECTOR,'a[id=\"info.search.place.more\"]')\n",
    "# more = driver.find_element(By.ID, \"info.search.place.more\")\n",
    "more.click()  \n",
    "# more.send_keys(Keys.ENTER)"
   ]
  },
  {
   "cell_type": "code",
   "execution_count": 63,
   "metadata": {},
   "outputs": [
    {
     "name": "stdout",
     "output_type": "stream",
     "text": [
      "가게이름: 맛짱조개, 카테고리: 조개, 위치: 서울 강남구 언주로136길 10 1층,  평점: 4.1, 리뷰수: 391\n",
      "가게이름: 달맞이, 카테고리: 일식, 위치: 서울 강남구 강남대로128길 10,  평점: 4.0, 리뷰수: 219\n",
      "가게이름: 평양면옥, 카테고리: 냉면, 위치: 서울 강남구 논현로150길 6,  평점: 3.1, 리뷰수: 96\n",
      "가게이름: 현우동, 카테고리: 돈까스,우동, 위치: 서울 강남구 논현로149길 53 래성빌딩 101호,  평점: 3.6, 리뷰수: 352\n",
      "가게이름: 마켓오 압구정점, 카테고리: 양식, 위치: 서울 강남구 도산대로 310 2층,  평점: 4.0, 리뷰수: 90\n",
      "가게이름: 카페써드, 카테고리: 커피전문점, 위치: 서울 강남구 선릉로131길 11 1층,  평점: 3.9, 리뷰수: 62\n",
      "가게이름: 한우리 본점, 카테고리: 육류,고기, 위치: 서울 강남구 도산대로 304,  평점: 2.8, 리뷰수: 58\n",
      "가게이름: 홈수끼 학동점, 카테고리: 샤브샤브, 위치: 서울 강남구 언주로 708 경원빌딩 1층,  평점: 3.1, 리뷰수: 331\n",
      "가게이름: 논현손칼국수, 카테고리: 국수, 위치: 서울 강남구 논현로111길 16 1층,  평점: 3.8, 리뷰수: 113\n",
      "가게이름: 영동원삼겹살, 카테고리: 삼겹살, 위치: 서울 강남구 강남대로 520,  평점: 4.1, 리뷰수: 91\n",
      "가게이름: 인량 훠궈, 카테고리: 중식, 위치: 서울 강남구 강남대로140길 9 비피유빌딩 지하1층,  평점: 4.1, 리뷰수: 186\n",
      "가게이름: 김수사, 카테고리: 초밥,롤, 위치: 서울 강남구 도산대로 132 1층,  평점: , 리뷰수: 151\n",
      "가게이름: 우정양곱창, 카테고리: 곱창,막창, 위치: 서울 강남구 도산대로30길 23 1층,  평점: 3.9, 리뷰수: 165\n",
      "가게이름: 함지곱창전문, 카테고리: 곱창,막창, 위치: 서울 강남구 학동로2길 33,  평점: 3.7, 리뷰수: 194\n",
      "가게이름: 진전복삼계탕, 카테고리: 삼계탕, 위치: 서울 강남구 선릉로129길 21 1층,  평점: 4.2, 리뷰수: 332\n"
     ]
    }
   ],
   "source": [
    "# 2페이지 가게리스트 크롤링\n",
    "restaurant_list = driver.find_elements(By.CSS_SELECTOR, '.placelist li')\n",
    "\n",
    "# 2페이지 가게리스트 출력\n",
    "for restaurant in restaurant_list:\n",
    "    name = restaurant.find_element(By.CSS_SELECTOR, '.link_name').text.strip()\n",
    "    category = restaurant.find_element(By.CSS_SELECTOR, '.subcategory').text.strip()\n",
    "    location = restaurant.find_element(By.CSS_SELECTOR, 'p[data-id=\"address\"]').text.strip()\n",
    "    rating = restaurant.find_element(By.CSS_SELECTOR, 'div span .num[data-id=\"scoreNum\"]').text.strip()\n",
    "    review_num = restaurant.find_element(By.CSS_SELECTOR, 'em[data-id=\"numberofreview\"]').text.strip()\n",
    "    print(f'가게이름: {name}, 카테고리: {category}, 위치: {location},  평점: {rating}, 리뷰수: {review_num}')"
   ]
  },
  {
   "cell_type": "code",
   "execution_count": 67,
   "metadata": {},
   "outputs": [],
   "source": [
    "#파일 생성\n",
    "f = open('restaurant_crawling.csv', 'w')\n",
    "\n",
    "#파일 헤더\n",
    "f.write('가게이름,카테고리,위치,평점,리뷰수\\n') #줄바꿈 꼭!\n",
    "f.close()"
   ]
  },
  {
   "cell_type": "code",
   "execution_count": 65,
   "metadata": {},
   "outputs": [],
   "source": [
    "#크롤링 함수 생성\n",
    "def restaurant_crawling():\n",
    "    #result = []\n",
    "    restaurant_list = driver.find_elements(By.CSS_SELECTOR, '.placelist li')\n",
    "    for restaurant in restaurant_list:\n",
    "        name = restaurant.find_element(By.CSS_SELECTOR, '.link_name').text.strip()\n",
    "        category = restaurant.find_element(By.CSS_SELECTOR, '.subcategory').text.replace(',',' | ').strip()\n",
    "        location = restaurant.find_element(By.CSS_SELECTOR, 'p[data-id=\"address\"]').text.replace(',',' ').strip()\n",
    "        rating = restaurant.find_element(By.CSS_SELECTOR, 'div span .num[data-id=\"scoreNum\"]').text.strip()\n",
    "        review_num = restaurant.find_element(By.CSS_SELECTOR, 'em[data-id=\"numberofreview\"]').text.replace(',','').strip()\n",
    "        \n",
    "        #데이터 파일에 저장\n",
    "        f = open('restaurant_crawling.csv', 'a')\n",
    "        f.write(name+\",\"+category+\",\"+location+\",\"+rating+\",\"+review_num+\"\\n\")\n",
    "        f.close()\n",
    "        \n",
    "#         result.append({\n",
    "#             '가게이름': name,\n",
    "#             '카테고리': category,\n",
    "#             '위치': location,\n",
    "#             '평점': rating,\n",
    "#             '리뷰수': review_num\n",
    "#         })\n",
    "    \n",
    "    return None #result"
   ]
  },
  {
   "cell_type": "code",
   "execution_count": 66,
   "metadata": {},
   "outputs": [
    {
     "ename": "AttributeError",
     "evalue": "'NoneType' object has no attribute 'extend'",
     "output_type": "error",
     "traceback": [
      "\u001b[1;31m---------------------------------------------------------------------------\u001b[0m",
      "\u001b[1;31mAttributeError\u001b[0m                            Traceback (most recent call last)",
      "\u001b[1;32m~\\AppData\\Local\\Temp\\ipykernel_8768\\124081646.py\u001b[0m in \u001b[0;36m<module>\u001b[1;34m\u001b[0m\n\u001b[0;32m     13\u001b[0m             \u001b[0mpage\u001b[0m\u001b[1;33m.\u001b[0m\u001b[0mclick\u001b[0m\u001b[1;33m(\u001b[0m\u001b[1;33m)\u001b[0m\u001b[1;33m\u001b[0m\u001b[1;33m\u001b[0m\u001b[0m\n\u001b[0;32m     14\u001b[0m     \u001b[0mtime\u001b[0m\u001b[1;33m.\u001b[0m\u001b[0msleep\u001b[0m\u001b[1;33m(\u001b[0m\u001b[1;36m3\u001b[0m\u001b[1;33m)\u001b[0m\u001b[1;33m\u001b[0m\u001b[1;33m\u001b[0m\u001b[0m\n\u001b[1;32m---> 15\u001b[1;33m     \u001b[0mfinal_result\u001b[0m\u001b[1;33m.\u001b[0m\u001b[0mextend\u001b[0m\u001b[1;33m(\u001b[0m\u001b[0mrestaurant_crawling\u001b[0m\u001b[1;33m(\u001b[0m\u001b[1;33m)\u001b[0m\u001b[1;33m)\u001b[0m\u001b[1;33m\u001b[0m\u001b[1;33m\u001b[0m\u001b[0m\n\u001b[0m\u001b[0;32m     16\u001b[0m \u001b[1;33m\u001b[0m\u001b[0m\n\u001b[0;32m     17\u001b[0m \u001b[1;31m#다음 버튼 클릭(5페이지씩 나뉨)\u001b[0m\u001b[1;33m\u001b[0m\u001b[1;33m\u001b[0m\u001b[0m\n",
      "\u001b[1;31mAttributeError\u001b[0m: 'NoneType' object has no attribute 'extend'"
     ]
    }
   ],
   "source": [
    "# 10페이지 까지 크롤링\n",
    "final_result = restaurant_crawling()\n",
    "\n",
    "for next_page in range(2,6):\n",
    "    \n",
    "    #맨 밑으로 이동\n",
    "    driver.execute_script(\"window.scrollTo(0,document.body.scrollHeight);\")\n",
    "    #페이지 a찾기\n",
    "    pages = driver.find_elements(By.CSS_SELECTOR, 'a[id*=\"info.search.page.no\"]')\n",
    "    #다음 페이지 클릭\n",
    "    for page in pages:\n",
    "        if page.text == str(next_page):\n",
    "            page.click()\n",
    "    time.sleep(3)\n",
    "    final_result.extend(restaurant_crawling())\n",
    "            \n",
    "#다음 버튼 클릭(5페이지씩 나뉨)\n",
    "pages_plus = driver.find_element(By.CSS_SELECTOR, 'button[id*=\"info.search.page.next\"]')\n",
    "pages_plus.click()\n",
    "time.sleep(3)\n",
    "\n",
    "#다음 페이지 클릭\n",
    "for next_page in range(6,11):\n",
    "\n",
    "    #맨 밑으로 이동\n",
    "    driver.execute_script(\"window.scrollTo(0,document.body.scrollHeight);\")\n",
    "    #페이지 찾기\n",
    "    pages = driver.find_elements(By.CSS_SELECTOR, 'a[id*=\"info.search.page.no\"]')\n",
    "    for page in pages:\n",
    "        if page.text == str(next_page):\n",
    "            page.click()\n",
    "    time.sleep(3)\n",
    "    final_result.extend(restaurant_crawling())"
   ]
  }
 ],
 "metadata": {
  "kernelspec": {
   "display_name": "Python 3",
   "language": "python",
   "name": "python3"
  },
  "language_info": {
   "codemirror_mode": {
    "name": "ipython",
    "version": 3
   },
   "file_extension": ".py",
   "mimetype": "text/x-python",
   "name": "python",
   "nbconvert_exporter": "python",
   "pygments_lexer": "ipython3",
   "version": "3.9.13"
  },
  "orig_nbformat": 4
 },
 "nbformat": 4,
 "nbformat_minor": 2
}
